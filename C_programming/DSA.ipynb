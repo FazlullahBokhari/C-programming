{
 "cells": [
  {
   "cell_type": "code",
   "execution_count": 2,
   "id": "0ae2a2dc",
   "metadata": {},
   "outputs": [],
   "source": [
    "def intValue(arr, maxValue=-1):\n",
    "    for i in arr:\n",
    "        if i>maxValue:\n",
    "            maxValue = i\n",
    "    return maxValue"
   ]
  },
  {
   "cell_type": "code",
   "execution_count": 5,
   "id": "72adfe52",
   "metadata": {},
   "outputs": [],
   "source": [
    "l = [1,2,3,4,5,0,12,1]"
   ]
  },
  {
   "cell_type": "code",
   "execution_count": 6,
   "id": "7aab3be9",
   "metadata": {},
   "outputs": [
    {
     "data": {
      "text/plain": [
       "12"
      ]
     },
     "execution_count": 6,
     "metadata": {},
     "output_type": "execute_result"
    }
   ],
   "source": [
    "intValue(l)"
   ]
  },
  {
   "cell_type": "code",
   "execution_count": null,
   "id": "411c8171",
   "metadata": {},
   "outputs": [],
   "source": []
  }
 ],
 "metadata": {
  "kernelspec": {
   "display_name": "Python 3 (ipykernel)",
   "language": "python",
   "name": "python3"
  },
  "language_info": {
   "codemirror_mode": {
    "name": "ipython",
    "version": 3
   },
   "file_extension": ".py",
   "mimetype": "text/x-python",
   "name": "python",
   "nbconvert_exporter": "python",
   "pygments_lexer": "ipython3",
   "version": "3.9.13"
  }
 },
 "nbformat": 4,
 "nbformat_minor": 5
}
